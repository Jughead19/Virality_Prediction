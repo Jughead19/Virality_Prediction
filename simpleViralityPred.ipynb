{
  "nbformat": 4,
  "nbformat_minor": 0,
  "metadata": {
    "colab": {
      "name": "Untitled1.ipynb",
      "provenance": [],
      "collapsed_sections": [],
      "authorship_tag": "ABX9TyMJFsqX5xmV4KitdsqGd3Ko",
      "include_colab_link": true
    },
    "kernelspec": {
      "name": "python3",
      "display_name": "Python 3"
    }
  },
  "cells": [
    {
      "cell_type": "markdown",
      "metadata": {
        "id": "view-in-github",
        "colab_type": "text"
      },
      "source": [
        "<a href=\"https://colab.research.google.com/github/Jughead19/Virality_Prediction/blob/master/simpleViralityPred.ipynb\" target=\"_parent\"><img src=\"https://colab.research.google.com/assets/colab-badge.svg\" alt=\"Open In Colab\"/></a>"
      ]
    },
    {
      "cell_type": "code",
      "metadata": {
        "id": "zmfnuTHAkw4p",
        "colab_type": "code",
        "outputId": "b414e3aa-181d-4e09-ceaa-a0bf03b01607",
        "colab": {
          "base_uri": "https://localhost:8080/",
          "height": 204
        }
      },
      "source": [
        "!pip install praw"
      ],
      "execution_count": 0,
      "outputs": [
        {
          "output_type": "stream",
          "text": [
            "Requirement already satisfied: praw in /usr/local/lib/python3.6/dist-packages (7.0.0)\n",
            "Requirement already satisfied: websocket-client>=0.54.0 in /usr/local/lib/python3.6/dist-packages (from praw) (0.57.0)\n",
            "Requirement already satisfied: prawcore<2.0,>=1.3.0 in /usr/local/lib/python3.6/dist-packages (from praw) (1.3.0)\n",
            "Requirement already satisfied: update-checker>=0.16 in /usr/local/lib/python3.6/dist-packages (from praw) (0.17)\n",
            "Requirement already satisfied: six in /usr/local/lib/python3.6/dist-packages (from websocket-client>=0.54.0->praw) (1.12.0)\n",
            "Requirement already satisfied: requests<3.0,>=2.6.0 in /usr/local/lib/python3.6/dist-packages (from prawcore<2.0,>=1.3.0->praw) (2.21.0)\n",
            "Requirement already satisfied: chardet<3.1.0,>=3.0.2 in /usr/local/lib/python3.6/dist-packages (from requests<3.0,>=2.6.0->prawcore<2.0,>=1.3.0->praw) (3.0.4)\n",
            "Requirement already satisfied: urllib3<1.25,>=1.21.1 in /usr/local/lib/python3.6/dist-packages (from requests<3.0,>=2.6.0->prawcore<2.0,>=1.3.0->praw) (1.24.3)\n",
            "Requirement already satisfied: certifi>=2017.4.17 in /usr/local/lib/python3.6/dist-packages (from requests<3.0,>=2.6.0->prawcore<2.0,>=1.3.0->praw) (2020.4.5.1)\n",
            "Requirement already satisfied: idna<2.9,>=2.5 in /usr/local/lib/python3.6/dist-packages (from requests<3.0,>=2.6.0->prawcore<2.0,>=1.3.0->praw) (2.8)\n"
          ],
          "name": "stdout"
        }
      ]
    },
    {
      "cell_type": "code",
      "metadata": {
        "id": "lcBjaUkSk1s0",
        "colab_type": "code",
        "colab": {}
      },
      "source": [
        "import praw\n",
        "import pandas as pd\n",
        "import numpy as np\n",
        "import datetime as dt\n",
        "import matplotlib.pyplot as plt\n",
        "from sklearn.model_selection import train_test_split\n",
        "from sklearn.linear_model import LogisticRegression\n",
        "from sklearn import svm\n",
        "from sklearn import metrics \n",
        "from sklearn import preprocessing\n"
      ],
      "execution_count": 0,
      "outputs": []
    },
    {
      "cell_type": "code",
      "metadata": {
        "id": "7cfHyfE6oJMv",
        "colab_type": "code",
        "colab": {}
      },
      "source": [
        "\"\"\"\n",
        "First step is to create an application through reddit, you need a reddit account for this. Include a script name and description and then put this in the uri box \n",
        "http://localhost:8080  \n",
        "\n",
        "Once this is done succesfully you can find two strings one on the top right corner with length 14character and the other is a \"secret\" of length 27character\"\"\""
      ],
      "execution_count": 0,
      "outputs": []
    },
    {
      "cell_type": "code",
      "metadata": {
        "id": "hxLZRSfJk_Ri",
        "colab_type": "code",
        "colab": {}
      },
      "source": [
        "reddit = praw.Reddit(client_id='enter the 14character string here', client_secret='secret key here',user_agent='name you gave in the application',username='reddit username',password='reddit password')"
      ],
      "execution_count": 0,
      "outputs": []
    },
    {
      "cell_type": "code",
      "metadata": {
        "id": "qpV_l0oVlEHs",
        "colab_type": "code",
        "colab": {}
      },
      "source": [
        "subreddit=reddit.subreddit('eagles+nba+sports+FIFA')"
      ],
      "execution_count": 0,
      "outputs": []
    },
    {
      "cell_type": "code",
      "metadata": {
        "id": "7rvAQeIir6sP",
        "colab_type": "code",
        "colab": {}
      },
      "source": [
        "top_reddit=subreddit.top(time_filter='year',limit=3500)"
      ],
      "execution_count": 0,
      "outputs": []
    },
    {
      "cell_type": "code",
      "metadata": {
        "id": "xxei5NHRoWR6",
        "colab_type": "code",
        "colab": {}
      },
      "source": [
        "data={'title':[],'id':[],'subreddit':[],'comments':[],'creationdate':[],'ups':[],'trophies':[],'is_self':[],'is_video':[],'subscribers':[],'score':[]}"
      ],
      "execution_count": 0,
      "outputs": []
    },
    {
      "cell_type": "code",
      "metadata": {
        "id": "AFMkTRSfrJa4",
        "colab_type": "code",
        "colab": {}
      },
      "source": [
        "for submission in top_reddit:\n",
        "  data['title'].append(submission.title)\n",
        "  data['id'].append(submission.id)\n",
        "  data['subreddit'].append(submission.subreddit)\n",
        "  data['comments'].append(submission.num_comments)\n",
        "  data['creationdate'].append(submission.created)\n",
        "  data['ups'].append(submission.ups)\n",
        "  data['trophies'].append(submission.total_awards_received)\n",
        "  data['is_self'].append(submission.is_self)\n",
        "  data['is_video'].append(submission.is_video)\n",
        "  data['subscribers'].append(submission.subreddit_subscribers)\n",
        "  data['score'].append(submission.score)"
      ],
      "execution_count": 0,
      "outputs": []
    },
    {
      "cell_type": "code",
      "metadata": {
        "id": "KXF4UzqUshUb",
        "colab_type": "code",
        "outputId": "531e923b-4e86-4c0a-c747-c5070095776e",
        "colab": {
          "base_uri": "https://localhost:8080/",
          "height": 297
        }
      },
      "source": [
        "df=pd.DataFrame(data)\n",
        "df.head()\n"
      ],
      "execution_count": 0,
      "outputs": [
        {
          "output_type": "execute_result",
          "data": {
            "text/html": [
              "<div>\n",
              "<style scoped>\n",
              "    .dataframe tbody tr th:only-of-type {\n",
              "        vertical-align: middle;\n",
              "    }\n",
              "\n",
              "    .dataframe tbody tr th {\n",
              "        vertical-align: top;\n",
              "    }\n",
              "\n",
              "    .dataframe thead th {\n",
              "        text-align: right;\n",
              "    }\n",
              "</style>\n",
              "<table border=\"1\" class=\"dataframe\">\n",
              "  <thead>\n",
              "    <tr style=\"text-align: right;\">\n",
              "      <th></th>\n",
              "      <th>title</th>\n",
              "      <th>id</th>\n",
              "      <th>subreddit</th>\n",
              "      <th>comments</th>\n",
              "      <th>creationdate</th>\n",
              "      <th>ups</th>\n",
              "      <th>trophies</th>\n",
              "      <th>is_self</th>\n",
              "      <th>is_video</th>\n",
              "      <th>subscribers</th>\n",
              "      <th>score</th>\n",
              "    </tr>\n",
              "  </thead>\n",
              "  <tbody>\n",
              "    <tr>\n",
              "      <th>0</th>\n",
              "      <td>[Surette] TMZ is reporting Kobe Bryant has die...</td>\n",
              "      <td>eubekc</td>\n",
              "      <td>nba</td>\n",
              "      <td>12398</td>\n",
              "      <td>1.580096e+09</td>\n",
              "      <td>105540</td>\n",
              "      <td>0</td>\n",
              "      <td>False</td>\n",
              "      <td>False</td>\n",
              "      <td>3227805</td>\n",
              "      <td>105540</td>\n",
              "    </tr>\n",
              "    <tr>\n",
              "      <th>1</th>\n",
              "      <td>[Charania] The NBA has suspended its season.</td>\n",
              "      <td>fh8e8c</td>\n",
              "      <td>nba</td>\n",
              "      <td>12251</td>\n",
              "      <td>1.584006e+09</td>\n",
              "      <td>98391</td>\n",
              "      <td>0</td>\n",
              "      <td>False</td>\n",
              "      <td>False</td>\n",
              "      <td>3227805</td>\n",
              "      <td>98391</td>\n",
              "    </tr>\n",
              "    <tr>\n",
              "      <th>2</th>\n",
              "      <td>Max Kellerman on Lebron: \"It's called selling ...</td>\n",
              "      <td>dic2ak</td>\n",
              "      <td>nba</td>\n",
              "      <td>4174</td>\n",
              "      <td>1.571193e+09</td>\n",
              "      <td>94425</td>\n",
              "      <td>0</td>\n",
              "      <td>False</td>\n",
              "      <td>False</td>\n",
              "      <td>3227805</td>\n",
              "      <td>94425</td>\n",
              "    </tr>\n",
              "    <tr>\n",
              "      <th>3</th>\n",
              "      <td>Fallon Sherrock just became the first woman to...</td>\n",
              "      <td>ec3d3l</td>\n",
              "      <td>sports</td>\n",
              "      <td>3435</td>\n",
              "      <td>1.576651e+09</td>\n",
              "      <td>90024</td>\n",
              "      <td>0</td>\n",
              "      <td>False</td>\n",
              "      <td>False</td>\n",
              "      <td>17020385</td>\n",
              "      <td>90024</td>\n",
              "    </tr>\n",
              "    <tr>\n",
              "      <th>4</th>\n",
              "      <td>I analyzed James Harden's performance in every...</td>\n",
              "      <td>dt0ucg</td>\n",
              "      <td>nba</td>\n",
              "      <td>4284</td>\n",
              "      <td>1.573176e+09</td>\n",
              "      <td>89050</td>\n",
              "      <td>0</td>\n",
              "      <td>True</td>\n",
              "      <td>False</td>\n",
              "      <td>3227805</td>\n",
              "      <td>89050</td>\n",
              "    </tr>\n",
              "  </tbody>\n",
              "</table>\n",
              "</div>"
            ],
            "text/plain": [
              "                                               title  ...   score\n",
              "0  [Surette] TMZ is reporting Kobe Bryant has die...  ...  105540\n",
              "1       [Charania] The NBA has suspended its season.  ...   98391\n",
              "2  Max Kellerman on Lebron: \"It's called selling ...  ...   94425\n",
              "3  Fallon Sherrock just became the first woman to...  ...   90024\n",
              "4  I analyzed James Harden's performance in every...  ...   89050\n",
              "\n",
              "[5 rows x 11 columns]"
            ]
          },
          "metadata": {
            "tags": []
          },
          "execution_count": 11
        }
      ]
    },
    {
      "cell_type": "code",
      "metadata": {
        "id": "nSsmmjkAlB2q",
        "colab_type": "code",
        "colab": {}
      },
      "source": [
        "#to convert creation date into the format year month day hr min sec\n",
        "\n",
        "def get_date(creationdate):\n",
        "  return dt.datetime.fromtimestamp(creationdate)\n",
        "_timestamp= df[\"creationdate\"].apply(get_date)\n",
        "df=df.assign(timestamp=_timestamp)\n",
        "#extracting the hour and dayof the week from the timestamp created \n",
        "df['hour_of_day']=df['timestamp'].dt.hour\n",
        "df['weekday']=df['timestamp'].dt.dayofweek"
      ],
      "execution_count": 0,
      "outputs": []
    },
    {
      "cell_type": "code",
      "metadata": {
        "id": "mOhRTmmhlDJ3",
        "colab_type": "code",
        "outputId": "979ca7f9-b919-44fd-e1c0-dbd92d53625e",
        "colab": {
          "base_uri": "https://localhost:8080/",
          "height": 551
        }
      },
      "source": [
        "#converting into a string so as to change the datatype from a subreddit object\n",
        "df['subreddit']=df['subreddit'].astype(str)\n",
        "df.head()"
      ],
      "execution_count": 0,
      "outputs": [
        {
          "output_type": "execute_result",
          "data": {
            "text/html": [
              "<div>\n",
              "<style scoped>\n",
              "    .dataframe tbody tr th:only-of-type {\n",
              "        vertical-align: middle;\n",
              "    }\n",
              "\n",
              "    .dataframe tbody tr th {\n",
              "        vertical-align: top;\n",
              "    }\n",
              "\n",
              "    .dataframe thead th {\n",
              "        text-align: right;\n",
              "    }\n",
              "</style>\n",
              "<table border=\"1\" class=\"dataframe\">\n",
              "  <thead>\n",
              "    <tr style=\"text-align: right;\">\n",
              "      <th></th>\n",
              "      <th>title</th>\n",
              "      <th>id</th>\n",
              "      <th>subreddit</th>\n",
              "      <th>comments</th>\n",
              "      <th>creationdate</th>\n",
              "      <th>ups</th>\n",
              "      <th>trophies</th>\n",
              "      <th>is_self</th>\n",
              "      <th>is_video</th>\n",
              "      <th>subscribers</th>\n",
              "      <th>score</th>\n",
              "      <th>timestamp</th>\n",
              "      <th>hour_of_day</th>\n",
              "      <th>weekday</th>\n",
              "    </tr>\n",
              "  </thead>\n",
              "  <tbody>\n",
              "    <tr>\n",
              "      <th>0</th>\n",
              "      <td>[Surette] TMZ is reporting Kobe Bryant has die...</td>\n",
              "      <td>eubekc</td>\n",
              "      <td>nba</td>\n",
              "      <td>12398</td>\n",
              "      <td>1.580096e+09</td>\n",
              "      <td>105540</td>\n",
              "      <td>0</td>\n",
              "      <td>False</td>\n",
              "      <td>False</td>\n",
              "      <td>3227805</td>\n",
              "      <td>105540</td>\n",
              "      <td>2020-01-27 03:29:00</td>\n",
              "      <td>3</td>\n",
              "      <td>0</td>\n",
              "    </tr>\n",
              "    <tr>\n",
              "      <th>1</th>\n",
              "      <td>[Charania] The NBA has suspended its season.</td>\n",
              "      <td>fh8e8c</td>\n",
              "      <td>nba</td>\n",
              "      <td>12251</td>\n",
              "      <td>1.584006e+09</td>\n",
              "      <td>98391</td>\n",
              "      <td>0</td>\n",
              "      <td>False</td>\n",
              "      <td>False</td>\n",
              "      <td>3227805</td>\n",
              "      <td>98391</td>\n",
              "      <td>2020-03-12 09:32:16</td>\n",
              "      <td>9</td>\n",
              "      <td>3</td>\n",
              "    </tr>\n",
              "    <tr>\n",
              "      <th>2</th>\n",
              "      <td>Max Kellerman on Lebron: \"It's called selling ...</td>\n",
              "      <td>dic2ak</td>\n",
              "      <td>nba</td>\n",
              "      <td>4174</td>\n",
              "      <td>1.571193e+09</td>\n",
              "      <td>94425</td>\n",
              "      <td>0</td>\n",
              "      <td>False</td>\n",
              "      <td>False</td>\n",
              "      <td>3227805</td>\n",
              "      <td>94425</td>\n",
              "      <td>2019-10-16 02:25:14</td>\n",
              "      <td>2</td>\n",
              "      <td>2</td>\n",
              "    </tr>\n",
              "    <tr>\n",
              "      <th>3</th>\n",
              "      <td>Fallon Sherrock just became the first woman to...</td>\n",
              "      <td>ec3d3l</td>\n",
              "      <td>sports</td>\n",
              "      <td>3435</td>\n",
              "      <td>1.576651e+09</td>\n",
              "      <td>90024</td>\n",
              "      <td>0</td>\n",
              "      <td>False</td>\n",
              "      <td>False</td>\n",
              "      <td>17020385</td>\n",
              "      <td>90024</td>\n",
              "      <td>2019-12-18 06:43:31</td>\n",
              "      <td>6</td>\n",
              "      <td>2</td>\n",
              "    </tr>\n",
              "    <tr>\n",
              "      <th>4</th>\n",
              "      <td>I analyzed James Harden's performance in every...</td>\n",
              "      <td>dt0ucg</td>\n",
              "      <td>nba</td>\n",
              "      <td>4284</td>\n",
              "      <td>1.573176e+09</td>\n",
              "      <td>89050</td>\n",
              "      <td>0</td>\n",
              "      <td>True</td>\n",
              "      <td>False</td>\n",
              "      <td>3227805</td>\n",
              "      <td>89050</td>\n",
              "      <td>2019-11-08 01:19:44</td>\n",
              "      <td>1</td>\n",
              "      <td>4</td>\n",
              "    </tr>\n",
              "  </tbody>\n",
              "</table>\n",
              "</div>"
            ],
            "text/plain": [
              "                                               title  ... weekday\n",
              "0  [Surette] TMZ is reporting Kobe Bryant has die...  ...       0\n",
              "1       [Charania] The NBA has suspended its season.  ...       3\n",
              "2  Max Kellerman on Lebron: \"It's called selling ...  ...       2\n",
              "3  Fallon Sherrock just became the first woman to...  ...       2\n",
              "4  I analyzed James Harden's performance in every...  ...       4\n",
              "\n",
              "[5 rows x 14 columns]"
            ]
          },
          "metadata": {
            "tags": []
          },
          "execution_count": 13
        }
      ]
    },
    {
      "cell_type": "code",
      "metadata": {
        "id": "7JT6DDOUmx_O",
        "colab_type": "code",
        "colab": {}
      },
      "source": [
        "#takes in data frame and a series of column to return dataframe with the categorical columns one hot encoded\n",
        "def categorical_func(column_name,df):\n",
        "  df[column_name ]=pd.Categorical(df[column_name])\n",
        "  dummy_df=pd.get_dummies(df[column_name],prefix=column_name)\n",
        "  df=pd.concat([df,dummy_df],axis=1)\n",
        "  return df"
      ],
      "execution_count": 0,
      "outputs": []
    },
    {
      "cell_type": "code",
      "metadata": {
        "id": "WSiiU4AxniNs",
        "colab_type": "code",
        "colab": {}
      },
      "source": [
        "cat_arr=['subreddit','is_self','is_video']\n",
        "for col in cat_arr:\n",
        "  df=categorical_func(col,df)"
      ],
      "execution_count": 0,
      "outputs": []
    },
    {
      "cell_type": "code",
      "metadata": {
        "id": "mPzlcjIBo76V",
        "colab_type": "code",
        "outputId": "aef9317c-a69c-47d3-eacc-9cf2702695c6",
        "colab": {
          "base_uri": "https://localhost:8080/",
          "height": 33
        }
      },
      "source": [
        "df.shape"
      ],
      "execution_count": 0,
      "outputs": [
        {
          "output_type": "execute_result",
          "data": {
            "text/plain": [
              "(3500, 22)"
            ]
          },
          "metadata": {
            "tags": []
          },
          "execution_count": 16
        }
      ]
    },
    {
      "cell_type": "code",
      "metadata": {
        "id": "J9cLogrqpd1g",
        "colab_type": "code",
        "outputId": "24ac0491-8a11-4b2d-c9b3-7a2657f52f48",
        "colab": {
          "base_uri": "https://localhost:8080/",
          "height": 306
        }
      },
      "source": [
        "df.describe()"
      ],
      "execution_count": 0,
      "outputs": [
        {
          "output_type": "execute_result",
          "data": {
            "text/html": [
              "<div>\n",
              "<style scoped>\n",
              "    .dataframe tbody tr th:only-of-type {\n",
              "        vertical-align: middle;\n",
              "    }\n",
              "\n",
              "    .dataframe tbody tr th {\n",
              "        vertical-align: top;\n",
              "    }\n",
              "\n",
              "    .dataframe thead th {\n",
              "        text-align: right;\n",
              "    }\n",
              "</style>\n",
              "<table border=\"1\" class=\"dataframe\">\n",
              "  <thead>\n",
              "    <tr style=\"text-align: right;\">\n",
              "      <th></th>\n",
              "      <th>comments</th>\n",
              "      <th>creationdate</th>\n",
              "      <th>ups</th>\n",
              "      <th>trophies</th>\n",
              "      <th>subscribers</th>\n",
              "      <th>score</th>\n",
              "      <th>hour_of_day</th>\n",
              "      <th>weekday</th>\n",
              "      <th>subreddit_FIFA</th>\n",
              "      <th>subreddit_eagles</th>\n",
              "      <th>subreddit_nba</th>\n",
              "      <th>subreddit_sports</th>\n",
              "      <th>is_self_False</th>\n",
              "      <th>is_self_True</th>\n",
              "      <th>is_video_False</th>\n",
              "      <th>is_video_True</th>\n",
              "    </tr>\n",
              "  </thead>\n",
              "  <tbody>\n",
              "    <tr>\n",
              "      <th>count</th>\n",
              "      <td>3500.000000</td>\n",
              "      <td>3.500000e+03</td>\n",
              "      <td>3500.000000</td>\n",
              "      <td>3500.000000</td>\n",
              "      <td>3.500000e+03</td>\n",
              "      <td>3500.000000</td>\n",
              "      <td>3500.000000</td>\n",
              "      <td>3500.000000</td>\n",
              "      <td>3500.000000</td>\n",
              "      <td>3500.000000</td>\n",
              "      <td>3500.000000</td>\n",
              "      <td>3500.000000</td>\n",
              "      <td>3500.000000</td>\n",
              "      <td>3500.000000</td>\n",
              "      <td>3500.000000</td>\n",
              "      <td>3500.000000</td>\n",
              "    </tr>\n",
              "    <tr>\n",
              "      <th>mean</th>\n",
              "      <td>539.977143</td>\n",
              "      <td>1.572971e+09</td>\n",
              "      <td>8265.964286</td>\n",
              "      <td>1.320000</td>\n",
              "      <td>4.423661e+06</td>\n",
              "      <td>8265.964286</td>\n",
              "      <td>10.796857</td>\n",
              "      <td>2.836571</td>\n",
              "      <td>0.284571</td>\n",
              "      <td>0.233714</td>\n",
              "      <td>0.284857</td>\n",
              "      <td>0.196857</td>\n",
              "      <td>0.854571</td>\n",
              "      <td>0.145429</td>\n",
              "      <td>0.888571</td>\n",
              "      <td>0.111429</td>\n",
              "    </tr>\n",
              "    <tr>\n",
              "      <th>std</th>\n",
              "      <td>944.632390</td>\n",
              "      <td>8.870058e+06</td>\n",
              "      <td>11049.144244</td>\n",
              "      <td>7.209628</td>\n",
              "      <td>6.363059e+06</td>\n",
              "      <td>11049.144244</td>\n",
              "      <td>7.572014</td>\n",
              "      <td>2.042876</td>\n",
              "      <td>0.451275</td>\n",
              "      <td>0.423253</td>\n",
              "      <td>0.451411</td>\n",
              "      <td>0.397680</td>\n",
              "      <td>0.352583</td>\n",
              "      <td>0.352583</td>\n",
              "      <td>0.314707</td>\n",
              "      <td>0.314707</td>\n",
              "    </tr>\n",
              "    <tr>\n",
              "      <th>min</th>\n",
              "      <td>8.000000</td>\n",
              "      <td>1.556549e+09</td>\n",
              "      <td>458.000000</td>\n",
              "      <td>0.000000</td>\n",
              "      <td>1.982330e+05</td>\n",
              "      <td>458.000000</td>\n",
              "      <td>0.000000</td>\n",
              "      <td>0.000000</td>\n",
              "      <td>0.000000</td>\n",
              "      <td>0.000000</td>\n",
              "      <td>0.000000</td>\n",
              "      <td>0.000000</td>\n",
              "      <td>0.000000</td>\n",
              "      <td>0.000000</td>\n",
              "      <td>0.000000</td>\n",
              "      <td>0.000000</td>\n",
              "    </tr>\n",
              "    <tr>\n",
              "      <th>25%</th>\n",
              "      <td>84.750000</td>\n",
              "      <td>1.565343e+09</td>\n",
              "      <td>1138.000000</td>\n",
              "      <td>0.000000</td>\n",
              "      <td>3.769970e+05</td>\n",
              "      <td>1138.000000</td>\n",
              "      <td>4.000000</td>\n",
              "      <td>1.000000</td>\n",
              "      <td>0.000000</td>\n",
              "      <td>0.000000</td>\n",
              "      <td>0.000000</td>\n",
              "      <td>0.000000</td>\n",
              "      <td>1.000000</td>\n",
              "      <td>0.000000</td>\n",
              "      <td>1.000000</td>\n",
              "      <td>0.000000</td>\n",
              "    </tr>\n",
              "    <tr>\n",
              "      <th>50%</th>\n",
              "      <td>202.000000</td>\n",
              "      <td>1.573603e+09</td>\n",
              "      <td>2783.500000</td>\n",
              "      <td>0.000000</td>\n",
              "      <td>3.769970e+05</td>\n",
              "      <td>2783.500000</td>\n",
              "      <td>10.000000</td>\n",
              "      <td>3.000000</td>\n",
              "      <td>0.000000</td>\n",
              "      <td>0.000000</td>\n",
              "      <td>0.000000</td>\n",
              "      <td>0.000000</td>\n",
              "      <td>1.000000</td>\n",
              "      <td>0.000000</td>\n",
              "      <td>1.000000</td>\n",
              "      <td>0.000000</td>\n",
              "    </tr>\n",
              "    <tr>\n",
              "      <th>75%</th>\n",
              "      <td>671.000000</td>\n",
              "      <td>1.580311e+09</td>\n",
              "      <td>12192.000000</td>\n",
              "      <td>1.000000</td>\n",
              "      <td>3.227806e+06</td>\n",
              "      <td>12192.000000</td>\n",
              "      <td>19.000000</td>\n",
              "      <td>5.000000</td>\n",
              "      <td>1.000000</td>\n",
              "      <td>0.000000</td>\n",
              "      <td>1.000000</td>\n",
              "      <td>0.000000</td>\n",
              "      <td>1.000000</td>\n",
              "      <td>0.000000</td>\n",
              "      <td>1.000000</td>\n",
              "      <td>0.000000</td>\n",
              "    </tr>\n",
              "    <tr>\n",
              "      <th>max</th>\n",
              "      <td>16875.000000</td>\n",
              "      <td>1.587893e+09</td>\n",
              "      <td>105540.000000</td>\n",
              "      <td>313.000000</td>\n",
              "      <td>1.702039e+07</td>\n",
              "      <td>105540.000000</td>\n",
              "      <td>23.000000</td>\n",
              "      <td>6.000000</td>\n",
              "      <td>1.000000</td>\n",
              "      <td>1.000000</td>\n",
              "      <td>1.000000</td>\n",
              "      <td>1.000000</td>\n",
              "      <td>1.000000</td>\n",
              "      <td>1.000000</td>\n",
              "      <td>1.000000</td>\n",
              "      <td>1.000000</td>\n",
              "    </tr>\n",
              "  </tbody>\n",
              "</table>\n",
              "</div>"
            ],
            "text/plain": [
              "           comments  creationdate  ...  is_video_False  is_video_True\n",
              "count   3500.000000  3.500000e+03  ...     3500.000000    3500.000000\n",
              "mean     539.977143  1.572971e+09  ...        0.888571       0.111429\n",
              "std      944.632390  8.870058e+06  ...        0.314707       0.314707\n",
              "min        8.000000  1.556549e+09  ...        0.000000       0.000000\n",
              "25%       84.750000  1.565343e+09  ...        1.000000       0.000000\n",
              "50%      202.000000  1.573603e+09  ...        1.000000       0.000000\n",
              "75%      671.000000  1.580311e+09  ...        1.000000       0.000000\n",
              "max    16875.000000  1.587893e+09  ...        1.000000       1.000000\n",
              "\n",
              "[8 rows x 16 columns]"
            ]
          },
          "metadata": {
            "tags": []
          },
          "execution_count": 17
        }
      ]
    },
    {
      "cell_type": "code",
      "metadata": {
        "id": "mns4_CbNpyJL",
        "colab_type": "code",
        "colab": {}
      },
      "source": [
        "#For a post to go viral we are considering standard deviation of score as a threshold.\n",
        "\n",
        "df['virality']=[1 if x>df.score.std() else 0 for x in df.score]"
      ],
      "execution_count": 0,
      "outputs": []
    },
    {
      "cell_type": "code",
      "metadata": {
        "id": "DyqS4QWQwmKj",
        "colab_type": "code",
        "outputId": "54a58046-441f-4257-fef2-cd3fa3545a00",
        "colab": {
          "base_uri": "https://localhost:8080/",
          "height": 551
        }
      },
      "source": [
        "df.head()"
      ],
      "execution_count": 0,
      "outputs": [
        {
          "output_type": "execute_result",
          "data": {
            "text/html": [
              "<div>\n",
              "<style scoped>\n",
              "    .dataframe tbody tr th:only-of-type {\n",
              "        vertical-align: middle;\n",
              "    }\n",
              "\n",
              "    .dataframe tbody tr th {\n",
              "        vertical-align: top;\n",
              "    }\n",
              "\n",
              "    .dataframe thead th {\n",
              "        text-align: right;\n",
              "    }\n",
              "</style>\n",
              "<table border=\"1\" class=\"dataframe\">\n",
              "  <thead>\n",
              "    <tr style=\"text-align: right;\">\n",
              "      <th></th>\n",
              "      <th>title</th>\n",
              "      <th>id</th>\n",
              "      <th>subreddit</th>\n",
              "      <th>comments</th>\n",
              "      <th>creationdate</th>\n",
              "      <th>ups</th>\n",
              "      <th>trophies</th>\n",
              "      <th>is_self</th>\n",
              "      <th>is_video</th>\n",
              "      <th>subscribers</th>\n",
              "      <th>score</th>\n",
              "      <th>timestamp</th>\n",
              "      <th>hour_of_day</th>\n",
              "      <th>weekday</th>\n",
              "      <th>subreddit_FIFA</th>\n",
              "      <th>subreddit_eagles</th>\n",
              "      <th>subreddit_nba</th>\n",
              "      <th>subreddit_sports</th>\n",
              "      <th>is_self_False</th>\n",
              "      <th>is_self_True</th>\n",
              "      <th>is_video_False</th>\n",
              "      <th>is_video_True</th>\n",
              "      <th>virality</th>\n",
              "    </tr>\n",
              "  </thead>\n",
              "  <tbody>\n",
              "    <tr>\n",
              "      <th>0</th>\n",
              "      <td>[Surette] TMZ is reporting Kobe Bryant has die...</td>\n",
              "      <td>eubekc</td>\n",
              "      <td>nba</td>\n",
              "      <td>12398</td>\n",
              "      <td>1.580096e+09</td>\n",
              "      <td>105540</td>\n",
              "      <td>0</td>\n",
              "      <td>False</td>\n",
              "      <td>False</td>\n",
              "      <td>3227805</td>\n",
              "      <td>105540</td>\n",
              "      <td>2020-01-27 03:29:00</td>\n",
              "      <td>3</td>\n",
              "      <td>0</td>\n",
              "      <td>0</td>\n",
              "      <td>0</td>\n",
              "      <td>1</td>\n",
              "      <td>0</td>\n",
              "      <td>1</td>\n",
              "      <td>0</td>\n",
              "      <td>1</td>\n",
              "      <td>0</td>\n",
              "      <td>1</td>\n",
              "    </tr>\n",
              "    <tr>\n",
              "      <th>1</th>\n",
              "      <td>[Charania] The NBA has suspended its season.</td>\n",
              "      <td>fh8e8c</td>\n",
              "      <td>nba</td>\n",
              "      <td>12251</td>\n",
              "      <td>1.584006e+09</td>\n",
              "      <td>98391</td>\n",
              "      <td>0</td>\n",
              "      <td>False</td>\n",
              "      <td>False</td>\n",
              "      <td>3227805</td>\n",
              "      <td>98391</td>\n",
              "      <td>2020-03-12 09:32:16</td>\n",
              "      <td>9</td>\n",
              "      <td>3</td>\n",
              "      <td>0</td>\n",
              "      <td>0</td>\n",
              "      <td>1</td>\n",
              "      <td>0</td>\n",
              "      <td>1</td>\n",
              "      <td>0</td>\n",
              "      <td>1</td>\n",
              "      <td>0</td>\n",
              "      <td>1</td>\n",
              "    </tr>\n",
              "    <tr>\n",
              "      <th>2</th>\n",
              "      <td>Max Kellerman on Lebron: \"It's called selling ...</td>\n",
              "      <td>dic2ak</td>\n",
              "      <td>nba</td>\n",
              "      <td>4174</td>\n",
              "      <td>1.571193e+09</td>\n",
              "      <td>94425</td>\n",
              "      <td>0</td>\n",
              "      <td>False</td>\n",
              "      <td>False</td>\n",
              "      <td>3227805</td>\n",
              "      <td>94425</td>\n",
              "      <td>2019-10-16 02:25:14</td>\n",
              "      <td>2</td>\n",
              "      <td>2</td>\n",
              "      <td>0</td>\n",
              "      <td>0</td>\n",
              "      <td>1</td>\n",
              "      <td>0</td>\n",
              "      <td>1</td>\n",
              "      <td>0</td>\n",
              "      <td>1</td>\n",
              "      <td>0</td>\n",
              "      <td>1</td>\n",
              "    </tr>\n",
              "    <tr>\n",
              "      <th>3</th>\n",
              "      <td>Fallon Sherrock just became the first woman to...</td>\n",
              "      <td>ec3d3l</td>\n",
              "      <td>sports</td>\n",
              "      <td>3435</td>\n",
              "      <td>1.576651e+09</td>\n",
              "      <td>90024</td>\n",
              "      <td>0</td>\n",
              "      <td>False</td>\n",
              "      <td>False</td>\n",
              "      <td>17020385</td>\n",
              "      <td>90024</td>\n",
              "      <td>2019-12-18 06:43:31</td>\n",
              "      <td>6</td>\n",
              "      <td>2</td>\n",
              "      <td>0</td>\n",
              "      <td>0</td>\n",
              "      <td>0</td>\n",
              "      <td>1</td>\n",
              "      <td>1</td>\n",
              "      <td>0</td>\n",
              "      <td>1</td>\n",
              "      <td>0</td>\n",
              "      <td>1</td>\n",
              "    </tr>\n",
              "    <tr>\n",
              "      <th>4</th>\n",
              "      <td>I analyzed James Harden's performance in every...</td>\n",
              "      <td>dt0ucg</td>\n",
              "      <td>nba</td>\n",
              "      <td>4284</td>\n",
              "      <td>1.573176e+09</td>\n",
              "      <td>89050</td>\n",
              "      <td>0</td>\n",
              "      <td>True</td>\n",
              "      <td>False</td>\n",
              "      <td>3227805</td>\n",
              "      <td>89050</td>\n",
              "      <td>2019-11-08 01:19:44</td>\n",
              "      <td>1</td>\n",
              "      <td>4</td>\n",
              "      <td>0</td>\n",
              "      <td>0</td>\n",
              "      <td>1</td>\n",
              "      <td>0</td>\n",
              "      <td>0</td>\n",
              "      <td>1</td>\n",
              "      <td>1</td>\n",
              "      <td>0</td>\n",
              "      <td>1</td>\n",
              "    </tr>\n",
              "  </tbody>\n",
              "</table>\n",
              "</div>"
            ],
            "text/plain": [
              "                                               title  ... virality\n",
              "0  [Surette] TMZ is reporting Kobe Bryant has die...  ...        1\n",
              "1       [Charania] The NBA has suspended its season.  ...        1\n",
              "2  Max Kellerman on Lebron: \"It's called selling ...  ...        1\n",
              "3  Fallon Sherrock just became the first woman to...  ...        1\n",
              "4  I analyzed James Harden's performance in every...  ...        1\n",
              "\n",
              "[5 rows x 23 columns]"
            ]
          },
          "metadata": {
            "tags": []
          },
          "execution_count": 19
        }
      ]
    },
    {
      "cell_type": "code",
      "metadata": {
        "id": "o4td7CszxCVi",
        "colab_type": "code",
        "colab": {}
      },
      "source": [
        "#writing this data frame to csv file\n",
        "df.to_csv(\"scrapeddata.csv\")"
      ],
      "execution_count": 0,
      "outputs": []
    },
    {
      "cell_type": "code",
      "metadata": {
        "id": "TxZLENZh0maO",
        "colab_type": "code",
        "colab": {}
      },
      "source": [
        "#scaling the comments column so as to converge the gradient descent befor iteration limit is reached \n",
        "\n",
        "min_max_scaler = preprocessing.MinMaxScaler()\n",
        "df['comments'] = min_max_scaler.fit_transform(df['comments'].values.reshape(-1,1))"
      ],
      "execution_count": 0,
      "outputs": []
    },
    {
      "cell_type": "code",
      "metadata": {
        "id": "sI02vabUyahN",
        "colab_type": "code",
        "colab": {}
      },
      "source": [
        "x=df[['comments','trophies','subreddit_FIFA','subreddit_eagles','subreddit_nba', 'subreddit_sports', 'is_self_False', 'is_self_True',\n",
        "       'is_video_False', 'is_video_True']]\n",
        "y=df['virality'].values.flatten()"
      ],
      "execution_count": 0,
      "outputs": []
    },
    {
      "cell_type": "code",
      "metadata": {
        "id": "4o9ZdZK1zXl_",
        "colab_type": "code",
        "colab": {}
      },
      "source": [
        "x_train,x_test,y_train,y_test=train_test_split(x,y,test_size=0.2,random_state=1)"
      ],
      "execution_count": 0,
      "outputs": []
    },
    {
      "cell_type": "code",
      "metadata": {
        "id": "wnyn88xrzkBk",
        "colab_type": "code",
        "outputId": "91ce7a70-79b9-4fb6-b66a-7c2e86499977",
        "colab": {
          "base_uri": "https://localhost:8080/",
          "height": 100
        }
      },
      "source": [
        "logreg = LogisticRegression()\n",
        "logreg.fit(x_train,y_train)"
      ],
      "execution_count": 0,
      "outputs": [
        {
          "output_type": "execute_result",
          "data": {
            "text/plain": [
              "LogisticRegression(C=1.0, class_weight=None, dual=False, fit_intercept=True,\n",
              "                   intercept_scaling=1, l1_ratio=None, max_iter=100,\n",
              "                   multi_class='auto', n_jobs=None, penalty='l2',\n",
              "                   random_state=None, solver='lbfgs', tol=0.0001, verbose=0,\n",
              "                   warm_start=False)"
            ]
          },
          "metadata": {
            "tags": []
          },
          "execution_count": 25
        }
      ]
    },
    {
      "cell_type": "code",
      "metadata": {
        "id": "a5yeAdoez68_",
        "colab_type": "code",
        "colab": {}
      },
      "source": [
        "y_pred=logreg.predict(x_test)"
      ],
      "execution_count": 0,
      "outputs": []
    },
    {
      "cell_type": "code",
      "metadata": {
        "id": "i7jzR8Wf1JR3",
        "colab_type": "code",
        "outputId": "7b3fc8c6-338a-4cf5-9ad5-196f95e84641",
        "colab": {
          "base_uri": "https://localhost:8080/",
          "height": 50
        }
      },
      "source": [
        "cnf_matrix = metrics.confusion_matrix(y_test, y_pred)\n",
        "cnf_matrix"
      ],
      "execution_count": 0,
      "outputs": [
        {
          "output_type": "execute_result",
          "data": {
            "text/plain": [
              "array([[416,  80],\n",
              "       [ 33, 171]])"
            ]
          },
          "metadata": {
            "tags": []
          },
          "execution_count": 27
        }
      ]
    },
    {
      "cell_type": "code",
      "metadata": {
        "id": "qS5k09321NIX",
        "colab_type": "code",
        "outputId": "fdfa004a-b342-4e8f-b1be-04d07df29c8c",
        "colab": {
          "base_uri": "https://localhost:8080/",
          "height": 67
        }
      },
      "source": [
        "print(\"Accuracy:\",metrics.accuracy_score(y_test, y_pred))\n",
        "print(\"Precision:\",metrics.precision_score(y_test, y_pred))\n",
        "print(\"Recall:\",metrics.recall_score(y_test, y_pred))"
      ],
      "execution_count": 0,
      "outputs": [
        {
          "output_type": "stream",
          "text": [
            "Accuracy: 0.8385714285714285\n",
            "Precision: 0.6812749003984063\n",
            "Recall: 0.8382352941176471\n"
          ],
          "name": "stdout"
        }
      ]
    },
    {
      "cell_type": "code",
      "metadata": {
        "id": "isXYa65f3p1_",
        "colab_type": "code",
        "colab": {}
      },
      "source": [
        "creation_age=df.loc[x_test.index]"
      ],
      "execution_count": 0,
      "outputs": []
    },
    {
      "cell_type": "code",
      "metadata": {
        "id": "CWXAp9MTwAia",
        "colab_type": "code",
        "outputId": "12160c75-f5e0-4bb3-b2b0-c27cc4196c3c",
        "colab": {
          "base_uri": "https://localhost:8080/",
          "height": 297
        }
      },
      "source": [
        "index_x=creation_age['timestamp'].values[:10]\n",
        "index_y1=y_pred[:10]\n",
        "index_y2=y_test[:10]\n",
        "fig, ax = plt.subplots()\n",
        "bar_width = 0.3\n",
        "opacity = 0.8\n",
        "index=np.arange(10)\n",
        "rects1 = plt.bar(index, index_y1, bar_width,\n",
        "alpha=opacity,\n",
        "color='b',\n",
        "label='y_predicted')\n",
        "\n",
        "rects2 = plt.bar(index+ bar_width, index_y2, bar_width,\n",
        "alpha=opacity,\n",
        "color='g',\n",
        "label='y_tested')\n",
        "\n",
        "plt.xlabel('Timestamp')\n",
        "plt.ylabel('viralities')\n",
        "plt.title('virality vs timestamp')\n",
        "plt.xticks(index + bar_width/2, (i for i in index_x),rotation='vertical')\n",
        "plt.legend()\n",
        "\n",
        "plt.tight_layout()\n",
        "plt.show()"
      ],
      "execution_count": 0,
      "outputs": [
        {
          "output_type": "display_data",
          "data": {
            "image/png": "[encoded data removed]",
            "text/plain": [
              "<Figure size 432x288 with 1 Axes>"
            ]
          },
          "metadata": {
            "tags": [],
            "needs_background": "light"
          }
        }
      ]
    },
    {
      "cell_type": "code",
      "metadata": {
        "id": "MKCsMa2KxUxw",
        "colab_type": "code",
        "colab": {}
      },
      "source": [
        ""
      ],
      "execution_count": 0,
      "outputs": []
    }
  ]
}